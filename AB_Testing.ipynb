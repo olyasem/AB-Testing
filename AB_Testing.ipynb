{
 "cells": [
  {
   "attachments": {},
   "cell_type": "markdown",
   "metadata": {},
   "source": [
    "In this project, I will conduct an A/B test to compare the performance of two advertising campaigns - the control campaign and the test campaign. Our goal is to determine which campaign resulted in higher reach and website clicks. To do this, we collected data on the amount spent, number of impressions, reach, website clicks, searches received, content viewed, items added to cart, and purchases for each campaign. We will then perform statistical analysis to compare the results of the two campaigns and draw conclusions about their relative effectiveness. By the end of the project, we should able to provide valuable insights to our client on which campaign to continue investing in for their advertising efforts."
   ]
  },
  {
   "cell_type": "code",
   "execution_count": 54,
   "metadata": {},
   "outputs": [],
   "source": [
    "#importing necessary libraries:\n",
    "import pandas as pd\n",
    "import matplotlib.pyplot as plt\n",
    "import seaborn as sns\n"
   ]
  },
  {
   "cell_type": "code",
   "execution_count": 4,
   "metadata": {},
   "outputs": [
    {
     "name": "stdout",
     "output_type": "stream",
     "text": [
      "      Campaign Name       Date  Spend [USD]  # of Impressions     Reach  \\\n",
      "0  Control Campaign  1.08.2019         2280           82702.0   56930.0   \n",
      "1  Control Campaign  2.08.2019         1757          121040.0  102513.0   \n",
      "2  Control Campaign  3.08.2019         2343          131711.0  110862.0   \n",
      "3  Control Campaign  4.08.2019         1940           72878.0   61235.0   \n",
      "4  Control Campaign  5.08.2019         1835               NaN       NaN   \n",
      "\n",
      "   # of Website Clicks  # of Searches  # of View Content  # of Add to Cart  \\\n",
      "0               7016.0         2290.0             2159.0            1819.0   \n",
      "1               8110.0         2033.0             1841.0            1219.0   \n",
      "2               6508.0         1737.0             1549.0            1134.0   \n",
      "3               3065.0         1042.0              982.0            1183.0   \n",
      "4                  NaN            NaN                NaN               NaN   \n",
      "\n",
      "   # of Purchase  \n",
      "0          618.0  \n",
      "1          511.0  \n",
      "2          372.0  \n",
      "3          340.0  \n",
      "4            NaN  \n",
      "   Campaign Name       Date  Spend [USD]  # of Impressions  Reach  \\\n",
      "0  Test Campaign  1.08.2019         3008             39550  35820   \n",
      "1  Test Campaign  2.08.2019         2542            100719  91236   \n",
      "2  Test Campaign  3.08.2019         2365             70263  45198   \n",
      "3  Test Campaign  4.08.2019         2710             78451  25937   \n",
      "4  Test Campaign  5.08.2019         2297            114295  95138   \n",
      "\n",
      "   # of Website Clicks  # of Searches  # of View Content  # of Add to Cart  \\\n",
      "0                 3038           1946               1069               894   \n",
      "1                 4657           2359               1548               879   \n",
      "2                 7885           2572               2367              1268   \n",
      "3                 4216           2216               1437               566   \n",
      "4                 5863           2106                858               956   \n",
      "\n",
      "   # of Purchase  \n",
      "0            255  \n",
      "1            677  \n",
      "2            578  \n",
      "3            340  \n",
      "4            768  \n"
     ]
    }
   ],
   "source": [
    "#importing our data:\n",
    "control = pd.read_csv('control_group.csv', sep =';')\n",
    "test = pd.read_csv('test_group.csv', sep= ';')\n",
    "\n",
    "print(control.head())\n",
    "print(test.head())"
   ]
  },
  {
   "attachments": {},
   "cell_type": "markdown",
   "metadata": {},
   "source": [
    "Preparing data: fixing errors in column names, replacing NaN values with means."
   ]
  },
  {
   "cell_type": "code",
   "execution_count": 10,
   "metadata": {},
   "outputs": [
    {
     "name": "stdout",
     "output_type": "stream",
     "text": [
      "Campaign Name            0\n",
      "Date                     0\n",
      "Amount Spent             0\n",
      "Number of Impressions    1\n",
      "Reach                    1\n",
      "Website Clicks           1\n",
      "Searches Received        1\n",
      "Content Viewed           1\n",
      "Added to Cart            1\n",
      "Purchases                1\n",
      "dtype: int64\n",
      "Campaign Name            0\n",
      "Date                     0\n",
      "Amount Spent             0\n",
      "Number of Impressions    0\n",
      "Reach                    0\n",
      "Website Clicks           0\n",
      "Searches Received        0\n",
      "Content Viewed           0\n",
      "Added to Cart            0\n",
      "Purchases                0\n",
      "dtype: int64\n"
     ]
    }
   ],
   "source": [
    "control.columns = [\"Campaign Name\", \"Date\", \"Amount Spent\", \n",
    "                        \"Number of Impressions\", \"Reach\", \"Website Clicks\", \n",
    "                        \"Searches Received\", \"Content Viewed\", \"Added to Cart\",\n",
    "                        \"Purchases\"]\n",
    "test.columns= [\"Campaign Name\", \"Date\", \"Amount Spent\", \n",
    "                        \"Number of Impressions\", \"Reach\", \"Website Clicks\", \n",
    "                        \"Searches Received\", \"Content Viewed\", \"Added to Cart\",\n",
    "                        \"Purchases\"]\n",
    "\n",
    "\n",
    "print(control.isna().sum())\n",
    "print(test.isna().sum())\n",
    "\n"
   ]
  },
  {
   "cell_type": "code",
   "execution_count": 13,
   "metadata": {},
   "outputs": [
    {
     "name": "stdout",
     "output_type": "stream",
     "text": [
      "Campaign Name            0\n",
      "Date                     0\n",
      "Amount Spent             0\n",
      "Number of Impressions    0\n",
      "Reach                    0\n",
      "Website Clicks           0\n",
      "Searches Received        0\n",
      "Content Viewed           0\n",
      "Added to Cart            0\n",
      "Purchases                0\n",
      "dtype: int64\n"
     ]
    }
   ],
   "source": [
    "def fill_missing_values(data):\n",
    "    for col in data.columns:\n",
    "        if data[col].dtype == 'object':\n",
    "            continue  \n",
    "        data[col] = pd.to_numeric(data[col], errors='coerce')\n",
    "        data[col].fillna(value=data[col].mean(), inplace=True)\n",
    "    return data\n",
    "fill_missing_values(control)\n",
    "print(control.isna().sum())"
   ]
  },
  {
   "cell_type": "code",
   "execution_count": 15,
   "metadata": {},
   "outputs": [
    {
     "data": {
      "text/html": [
       "<div>\n",
       "<style scoped>\n",
       "    .dataframe tbody tr th:only-of-type {\n",
       "        vertical-align: middle;\n",
       "    }\n",
       "\n",
       "    .dataframe tbody tr th {\n",
       "        vertical-align: top;\n",
       "    }\n",
       "\n",
       "    .dataframe thead th {\n",
       "        text-align: right;\n",
       "    }\n",
       "</style>\n",
       "<table border=\"1\" class=\"dataframe\">\n",
       "  <thead>\n",
       "    <tr style=\"text-align: right;\">\n",
       "      <th></th>\n",
       "      <th>Campaign Name</th>\n",
       "      <th>Date</th>\n",
       "      <th>Amount Spent</th>\n",
       "      <th>Number of Impressions</th>\n",
       "      <th>Reach</th>\n",
       "      <th>Website Clicks</th>\n",
       "      <th>Searches Received</th>\n",
       "      <th>Content Viewed</th>\n",
       "      <th>Added to Cart</th>\n",
       "      <th>Purchases</th>\n",
       "    </tr>\n",
       "  </thead>\n",
       "  <tbody>\n",
       "    <tr>\n",
       "      <th>0</th>\n",
       "      <td>Control Campaign</td>\n",
       "      <td>1.08.2019</td>\n",
       "      <td>2280</td>\n",
       "      <td>82702.000000</td>\n",
       "      <td>56930.000000</td>\n",
       "      <td>7016.000000</td>\n",
       "      <td>2290.000000</td>\n",
       "      <td>2159.000000</td>\n",
       "      <td>1819.0</td>\n",
       "      <td>618.000000</td>\n",
       "    </tr>\n",
       "    <tr>\n",
       "      <th>1</th>\n",
       "      <td>Control Campaign</td>\n",
       "      <td>2.08.2019</td>\n",
       "      <td>1757</td>\n",
       "      <td>121040.000000</td>\n",
       "      <td>102513.000000</td>\n",
       "      <td>8110.000000</td>\n",
       "      <td>2033.000000</td>\n",
       "      <td>1841.000000</td>\n",
       "      <td>1219.0</td>\n",
       "      <td>511.000000</td>\n",
       "    </tr>\n",
       "    <tr>\n",
       "      <th>2</th>\n",
       "      <td>Control Campaign</td>\n",
       "      <td>3.08.2019</td>\n",
       "      <td>2343</td>\n",
       "      <td>131711.000000</td>\n",
       "      <td>110862.000000</td>\n",
       "      <td>6508.000000</td>\n",
       "      <td>1737.000000</td>\n",
       "      <td>1549.000000</td>\n",
       "      <td>1134.0</td>\n",
       "      <td>372.000000</td>\n",
       "    </tr>\n",
       "    <tr>\n",
       "      <th>3</th>\n",
       "      <td>Control Campaign</td>\n",
       "      <td>4.08.2019</td>\n",
       "      <td>1940</td>\n",
       "      <td>72878.000000</td>\n",
       "      <td>61235.000000</td>\n",
       "      <td>3065.000000</td>\n",
       "      <td>1042.000000</td>\n",
       "      <td>982.000000</td>\n",
       "      <td>1183.0</td>\n",
       "      <td>340.000000</td>\n",
       "    </tr>\n",
       "    <tr>\n",
       "      <th>4</th>\n",
       "      <td>Control Campaign</td>\n",
       "      <td>5.08.2019</td>\n",
       "      <td>1835</td>\n",
       "      <td>109559.758621</td>\n",
       "      <td>88844.931034</td>\n",
       "      <td>5320.793103</td>\n",
       "      <td>2221.310345</td>\n",
       "      <td>1943.793103</td>\n",
       "      <td>1300.0</td>\n",
       "      <td>522.793103</td>\n",
       "    </tr>\n",
       "  </tbody>\n",
       "</table>\n",
       "</div>"
      ],
      "text/plain": [
       "      Campaign Name       Date  Amount Spent  Number of Impressions  \\\n",
       "0  Control Campaign  1.08.2019          2280           82702.000000   \n",
       "1  Control Campaign  2.08.2019          1757          121040.000000   \n",
       "2  Control Campaign  3.08.2019          2343          131711.000000   \n",
       "3  Control Campaign  4.08.2019          1940           72878.000000   \n",
       "4  Control Campaign  5.08.2019          1835          109559.758621   \n",
       "\n",
       "           Reach  Website Clicks  Searches Received  Content Viewed  \\\n",
       "0   56930.000000     7016.000000        2290.000000     2159.000000   \n",
       "1  102513.000000     8110.000000        2033.000000     1841.000000   \n",
       "2  110862.000000     6508.000000        1737.000000     1549.000000   \n",
       "3   61235.000000     3065.000000        1042.000000      982.000000   \n",
       "4   88844.931034     5320.793103        2221.310345     1943.793103   \n",
       "\n",
       "   Added to Cart   Purchases  \n",
       "0         1819.0  618.000000  \n",
       "1         1219.0  511.000000  \n",
       "2         1134.0  372.000000  \n",
       "3         1183.0  340.000000  \n",
       "4         1300.0  522.793103  "
      ]
     },
     "execution_count": 15,
     "metadata": {},
     "output_type": "execute_result"
    }
   ],
   "source": [
    "concat_data = pd.concat([control, test]) \n",
    "concat_data.head()"
   ]
  },
  {
   "cell_type": "code",
   "execution_count": 17,
   "metadata": {},
   "outputs": [
    {
     "name": "stdout",
     "output_type": "stream",
     "text": [
      "Control Campaign    30\n",
      "Test Campaign       30\n",
      "Name: Campaign Name, dtype: int64\n"
     ]
    }
   ],
   "source": [
    "print(concat_data[\"Campaign Name\"].value_counts())\n",
    "#confirmed that each sample is the same size"
   ]
  },
  {
   "attachments": {},
   "cell_type": "markdown",
   "metadata": {},
   "source": [
    "Scatter plot (number of impressions)\n",
    "Pie chart for total clicks, pie chart for searches, content viewed, added to cart, amount spent, purchases\n"
   ]
  },
  {
   "cell_type": "code",
   "execution_count": 31,
   "metadata": {},
   "outputs": [
    {
     "data": {
      "image/png": "[encoded data removed]",
      "text/plain": [
       "<Figure size 640x480 with 1 Axes>"
      ]
     },
     "metadata": {},
     "output_type": "display_data"
    }
   ],
   "source": [
    "colors = ['blue' if x == 'Control Campaign' else 'red' for x in concat_data['Campaign Name']]\n",
    "plt.xlabel('Number of Impressions')\n",
    "plt.ylabel('Amount Spent')\n",
    "plt.scatter(x=concat_data['Number of Impressions'], y=concat_data['Amount Spent'], c= colors)\n",
    "plt.show()\n"
   ]
  },
  {
   "cell_type": "code",
   "execution_count": 22,
   "metadata": {},
   "outputs": [
    {
     "data": {
      "text/html": [
       "<div>\n",
       "<style scoped>\n",
       "    .dataframe tbody tr th:only-of-type {\n",
       "        vertical-align: middle;\n",
       "    }\n",
       "\n",
       "    .dataframe tbody tr th {\n",
       "        vertical-align: top;\n",
       "    }\n",
       "\n",
       "    .dataframe thead th {\n",
       "        text-align: right;\n",
       "    }\n",
       "</style>\n",
       "<table border=\"1\" class=\"dataframe\">\n",
       "  <thead>\n",
       "    <tr style=\"text-align: right;\">\n",
       "      <th></th>\n",
       "      <th>Amount Spent</th>\n",
       "      <th>Number of Impressions</th>\n",
       "      <th>Reach</th>\n",
       "      <th>Website Clicks</th>\n",
       "      <th>Searches Received</th>\n",
       "      <th>Content Viewed</th>\n",
       "      <th>Added to Cart</th>\n",
       "      <th>Purchases</th>\n",
       "    </tr>\n",
       "    <tr>\n",
       "      <th>Campaign Name</th>\n",
       "      <th></th>\n",
       "      <th></th>\n",
       "      <th></th>\n",
       "      <th></th>\n",
       "      <th></th>\n",
       "      <th></th>\n",
       "      <th></th>\n",
       "      <th></th>\n",
       "    </tr>\n",
       "  </thead>\n",
       "  <tbody>\n",
       "    <tr>\n",
       "      <th>Control Campaign</th>\n",
       "      <td>68653</td>\n",
       "      <td>3.286793e+06</td>\n",
       "      <td>2.665348e+06</td>\n",
       "      <td>159623.793103</td>\n",
       "      <td>66639.310345</td>\n",
       "      <td>58313.793103</td>\n",
       "      <td>39000.0</td>\n",
       "      <td>15683.793103</td>\n",
       "    </tr>\n",
       "    <tr>\n",
       "      <th>Test Campaign</th>\n",
       "      <td>76892</td>\n",
       "      <td>2.237544e+06</td>\n",
       "      <td>1.604747e+06</td>\n",
       "      <td>180970.000000</td>\n",
       "      <td>72569.000000</td>\n",
       "      <td>55740.000000</td>\n",
       "      <td>26446.0</td>\n",
       "      <td>15637.000000</td>\n",
       "    </tr>\n",
       "  </tbody>\n",
       "</table>\n",
       "</div>"
      ],
      "text/plain": [
       "                  Amount Spent  Number of Impressions         Reach  \\\n",
       "Campaign Name                                                         \n",
       "Control Campaign         68653           3.286793e+06  2.665348e+06   \n",
       "Test Campaign            76892           2.237544e+06  1.604747e+06   \n",
       "\n",
       "                  Website Clicks  Searches Received  Content Viewed  \\\n",
       "Campaign Name                                                         \n",
       "Control Campaign   159623.793103       66639.310345    58313.793103   \n",
       "Test Campaign      180970.000000       72569.000000    55740.000000   \n",
       "\n",
       "                  Added to Cart     Purchases  \n",
       "Campaign Name                                  \n",
       "Control Campaign        39000.0  15683.793103  \n",
       "Test Campaign           26446.0  15637.000000  "
      ]
     },
     "execution_count": 22,
     "metadata": {},
     "output_type": "execute_result"
    }
   ],
   "source": [
    "grouped_table = concat_data.groupby('Campaign Name').sum(numeric_only = True)\n",
    "grouped_table"
   ]
  },
  {
   "cell_type": "code",
   "execution_count": 52,
   "metadata": {},
   "outputs": [
    {
     "data": {
      "image/png": "[encoded data removed]",
      "text/plain": [
       "<Figure size 640x480 with 1 Axes>"
      ]
     },
     "metadata": {},
     "output_type": "display_data"
    },
    {
     "name": "stdout",
     "output_type": "stream",
     "text": [
      "The difference between Test Group and Control Group was  -1049249\n",
      "The % difference between Test Group and Control Group was  -19 %\n"
     ]
    }
   ],
   "source": [
    "grouped_table['Number of Impressions'].plot.pie(autopct='%1.1f%%', colors=['orange', 'brown'])\n",
    "plt.title('Number of Impressions resulted from a campaign')\n",
    "plt.show()\n",
    "\n",
    "def difference_calc(column):\n",
    "    control_amount = grouped_table.loc['Control Campaign', column]\n",
    "    test_amount = grouped_table.loc['Test Campaign', column]\n",
    "    difference = round(test_amount - control_amount)\n",
    "    perc_diff= round(difference/(test_amount + control_amount)*100)\n",
    "    print(\"The difference between Test Group and Control Group was \" , difference )\n",
    "    print(\"The % difference between Test Group and Control Group was \" , perc_diff, \"%\" )\n",
    "\n",
    "difference_calc('Number of Impressions')"
   ]
  },
  {
   "cell_type": "code",
   "execution_count": 53,
   "metadata": {},
   "outputs": [
    {
     "data": {
      "image/png": "[encoded data removed]",
      "text/plain": [
       "<Figure size 640x480 with 1 Axes>"
      ]
     },
     "metadata": {},
     "output_type": "display_data"
    },
    {
     "name": "stdout",
     "output_type": "stream",
     "text": [
      "The difference between Test Group and Control Group was  8239\n",
      "The % difference between Test Group and Control Group was  6 %\n"
     ]
    }
   ],
   "source": [
    "grouped_table['Amount Spent'].plot.pie(autopct='%1.1f%%', colors=['pink', 'green'])\n",
    "plt.title('Percentage of Amount Spent by Campaign')\n",
    "plt.show()\n",
    "\n",
    "difference_calc('Amount Spent')"
   ]
  },
  {
   "cell_type": "code",
   "execution_count": 60,
   "metadata": {},
   "outputs": [
    {
     "data": {
      "image/png": "[encoded data removed]",
      "text/plain": [
       "<Figure size 640x480 with 1 Axes>"
      ]
     },
     "metadata": {},
     "output_type": "display_data"
    },
    {
     "name": "stdout",
     "output_type": "stream",
     "text": [
      "The difference between Test Group and Control Group was  -1060601\n",
      "The % difference between Test Group and Control Group was  -25 %\n"
     ]
    }
   ],
   "source": [
    "reach_control = grouped_table.loc['Control Campaign', 'Reach']\n",
    "reach_test = grouped_table.loc['Test Campaign', 'Reach']\n",
    "\n",
    "plt.bar(['Control', 'Test'], [reach_control, reach_test], color=['blue', 'red'])\n",
    "plt.xlabel('Campaign')\n",
    "plt.ylabel('Reach')\n",
    "plt.title('Reach Comparison')\n",
    "plt.show()\n",
    "\n",
    "difference_calc('Reach')"
   ]
  },
  {
   "cell_type": "code",
   "execution_count": 69,
   "metadata": {},
   "outputs": [
    {
     "data": {
      "text/html": [
       "<div>\n",
       "<style scoped>\n",
       "    .dataframe tbody tr th:only-of-type {\n",
       "        vertical-align: middle;\n",
       "    }\n",
       "\n",
       "    .dataframe tbody tr th {\n",
       "        vertical-align: top;\n",
       "    }\n",
       "\n",
       "    .dataframe thead th {\n",
       "        text-align: right;\n",
       "    }\n",
       "</style>\n",
       "<table border=\"1\" class=\"dataframe\">\n",
       "  <thead>\n",
       "    <tr style=\"text-align: right;\">\n",
       "      <th></th>\n",
       "      <th>Amount Spent</th>\n",
       "      <th>Number of Impressions</th>\n",
       "      <th>Reach</th>\n",
       "      <th>Website Clicks</th>\n",
       "      <th>Searches Received</th>\n",
       "      <th>Content Viewed</th>\n",
       "      <th>Added to Cart</th>\n",
       "      <th>Purchases</th>\n",
       "    </tr>\n",
       "    <tr>\n",
       "      <th>Campaign Name</th>\n",
       "      <th></th>\n",
       "      <th></th>\n",
       "      <th></th>\n",
       "      <th></th>\n",
       "      <th></th>\n",
       "      <th></th>\n",
       "      <th></th>\n",
       "      <th></th>\n",
       "    </tr>\n",
       "  </thead>\n",
       "  <tbody>\n",
       "    <tr>\n",
       "      <th>Control Campaign</th>\n",
       "      <td>68653</td>\n",
       "      <td>3286792.758621</td>\n",
       "      <td>2665347.931034</td>\n",
       "      <td>159623.793103</td>\n",
       "      <td>66639.310345</td>\n",
       "      <td>58313.793103</td>\n",
       "      <td>39000.0</td>\n",
       "      <td>15683.793103</td>\n",
       "    </tr>\n",
       "    <tr>\n",
       "      <th>Test Campaign</th>\n",
       "      <td>76892</td>\n",
       "      <td>2237544.0</td>\n",
       "      <td>1604747.0</td>\n",
       "      <td>180970.0</td>\n",
       "      <td>72569.0</td>\n",
       "      <td>55740.0</td>\n",
       "      <td>26446.0</td>\n",
       "      <td>15637.0</td>\n",
       "    </tr>\n",
       "    <tr>\n",
       "      <th>Comparison</th>\n",
       "      <td>False</td>\n",
       "      <td>True</td>\n",
       "      <td>True</td>\n",
       "      <td>False</td>\n",
       "      <td>False</td>\n",
       "      <td>True</td>\n",
       "      <td>True</td>\n",
       "      <td>True</td>\n",
       "    </tr>\n",
       "  </tbody>\n",
       "</table>\n",
       "</div>"
      ],
      "text/plain": [
       "                 Amount Spent Number of Impressions           Reach  \\\n",
       "Campaign Name                                                         \n",
       "Control Campaign        68653        3286792.758621  2665347.931034   \n",
       "Test Campaign           76892             2237544.0       1604747.0   \n",
       "Comparison              False                  True            True   \n",
       "\n",
       "                 Website Clicks Searches Received Content Viewed  \\\n",
       "Campaign Name                                                      \n",
       "Control Campaign  159623.793103      66639.310345   58313.793103   \n",
       "Test Campaign          180970.0           72569.0        55740.0   \n",
       "Comparison                False             False           True   \n",
       "\n",
       "                 Added to Cart     Purchases  \n",
       "Campaign Name                                 \n",
       "Control Campaign       39000.0  15683.793103  \n",
       "Test Campaign          26446.0       15637.0  \n",
       "Comparison                True          True  "
      ]
     },
     "execution_count": 69,
     "metadata": {},
     "output_type": "execute_result"
    }
   ],
   "source": [
    "grouped_table.loc[\"Comparison\"] = grouped_table.iloc[0] > grouped_table.iloc[1]\n",
    "grouped_table"
   ]
  },
  {
   "cell_type": "code",
   "execution_count": 72,
   "metadata": {},
   "outputs": [
    {
     "data": {
      "text/plain": [
       "True     5\n",
       "False    3\n",
       "Name: Comparison, dtype: int64"
      ]
     },
     "execution_count": 72,
     "metadata": {},
     "output_type": "execute_result"
    }
   ],
   "source": [
    "len(grouped_table.columns)\n",
    "comparison_row = grouped_table.iloc[-1]\n",
    "counts = comparison_row.value_counts()\n",
    "counts"
   ]
  },
  {
   "attachments": {},
   "cell_type": "markdown",
   "metadata": {},
   "source": [
    "Based on the results of our A/B test, the Control Campaign outperformed the Test Campaign in terms of number of impressions, reach, content views, cart adds and purchases. Despite the Test Campaign having a higher amount spent, it did not generate as much traction as the Control Campaign. Out of the 8 characteristics tracked, the Control Campaign was superior to the Test Campaign 5 out of 8 times, indicating a 63% success rate. Therefore, the Control Campaign is recommended for increasing overall brand awareness and marketing efforts. However, the Test Campaign could be useful for targeting specific audiences or promoting specific products.\n",
    "Additionally, the results of this A/B test indicate that the amount spent on a campaign may not necessarily directly correlate with its success. Therefore, it is important to carefully evaluate and track various metrics to determine the most effective marketing strategies for a particular product or target audience. As with any A/B test, it is recommended to continue testing and experimenting with different approaches in order to optimize marketing efforts and maximize ROI."
   ]
  }
 ],
 "metadata": {
  "kernelspec": {
   "display_name": "Python 3",
   "language": "python",
   "name": "python3"
  },
  "language_info": {
   "codemirror_mode": {
    "name": "ipython",
    "version": 3
   },
   "file_extension": ".py",
   "mimetype": "text/x-python",
   "name": "python",
   "nbconvert_exporter": "python",
   "pygments_lexer": "ipython3",
   "version": "3.11.2"
  },
  "orig_nbformat": 4
 },
 "nbformat": 4,
 "nbformat_minor": 2
}
